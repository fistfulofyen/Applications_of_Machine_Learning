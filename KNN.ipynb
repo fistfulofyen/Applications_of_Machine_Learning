{
 "cells": [
  {
   "cell_type": "code",
   "execution_count": 1,
   "metadata": {},
   "outputs": [],
   "source": [
    "import math, copy\n",
    "import numpy as np\n",
    "import pandas as pd\n",
    "from matplotlib import pyplot as plt\n",
    "from sklearn.datasets import load_breast_cancer\n",
    "from sklearn.preprocessing import StandardScaler\n",
    "from sklearn.model_selection import KFold, train_test_split\n",
    "\n",
    "my_ID = 400132290\n",
    "np.random.seed(my_ID)\n",
    "np.set_printoptions(precision=2)# reduced display precision on numpy arrays"
   ]
  },
  {
   "cell_type": "code",
   "execution_count": 2,
   "metadata": {},
   "outputs": [
    {
     "name": "stdout",
     "output_type": "stream",
     "text": [
      "X Shape: (455, 30), X Type:<class 'numpy.ndarray'>)\n",
      "y Shape: (455,), y Type:<class 'numpy.ndarray'>)\n"
     ]
    }
   ],
   "source": [
    "data = load_breast_cancer()\n",
    "x_data = pd.DataFrame(data.data, columns=data.feature_names)\n",
    "y_data = data.target\n",
    "x_train, x_test, y_train, y_test = train_test_split(x_data, y_data, test_size=0.2, random_state=my_ID)\n",
    "\n",
    "sc = StandardScaler()\n",
    "x_train = sc.fit_transform(x_train)\n",
    "x_test = sc.transform(x_test)\n",
    "\n",
    "print(f\"X Shape: {x_train.shape}, X Type:{type(x_train)})\")\n",
    "#print(x_train)\n",
    "print(f\"y Shape: {y_train.shape}, y Type:{type(y_train)})\")\n",
    "#print(y_train)"
   ]
  },
  {
   "cell_type": "code",
   "execution_count": null,
   "metadata": {},
   "outputs": [],
   "source": [
    "def predict_knn(k, x_train_mat, x_test_mat, y_train_mat):\n",
    "    predictions = []\n",
    "\n",
    "    # For each row in the test set, calculate the distance between it and each row in the training set,\n",
    "    # and pick the K rows with the smallest distances between them and the test row\n",
    "    for x in x_test_mat:\n",
    "        distances = np.linalg.norm(x_train_mat - x, axis=1)\n",
    "        neighbours = np.argsort(distances, kind='stable')[0:k]\n",
    "        classes = list(y_train_mat[neighbours])\n",
    "        predictions.append(max(set(classes), key=classes.count))\n",
    "\n",
    "    return predictions\n",
    "\n",
    "\n",
    "def perform_cross_validation(k, kf, x_train, y_train):\n",
    "    cross_valid_score = 0.0\n",
    "\n",
    "    # Run through all num K_FOLDS cross-validation\n",
    "    for train, test in kf.split(x_train):\n",
    "        x_train_mat, x_test_mat = x_train[train], x_train[test]\n",
    "        y_train_mat, y_test_mat = y_train[train], y_train[test]\n",
    "\n",
    "        predictions = predict_knn(k, x_train_mat, x_test_mat, y_train_mat)\n",
    "\n",
    "        cross_valid_score += calc_misclassification_rate(predictions, y_test_mat)\n",
    "\n",
    "    # Average final cross-validation error\n",
    "    return cross_valid_score / kf.n_splits\n",
    "\n",
    "def calc_misclassification_rate(predictions, y_test_mat):\n",
    "    return np.mean(predictions != y_test_mat)\n",
    "\n",
    "def main():\n",
    "    K_FOLD = 5\n",
    "    kf = KFold()\n",
    "\n",
    "if __name__ == '__main__':\n",
    "    main()"
   ]
  }
 ],
 "metadata": {
  "kernelspec": {
   "display_name": "tf",
   "language": "python",
   "name": "python3"
  },
  "language_info": {
   "codemirror_mode": {
    "name": "ipython",
    "version": 3
   },
   "file_extension": ".py",
   "mimetype": "text/x-python",
   "name": "python",
   "nbconvert_exporter": "python",
   "pygments_lexer": "ipython3",
   "version": "3.9.17"
  }
 },
 "nbformat": 4,
 "nbformat_minor": 2
}
