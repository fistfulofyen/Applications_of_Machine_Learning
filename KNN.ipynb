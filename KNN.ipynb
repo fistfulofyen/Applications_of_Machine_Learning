{
 "cells": [
  {
   "cell_type": "code",
   "execution_count": 2,
   "metadata": {},
   "outputs": [],
   "source": [
    "import math, copy\n",
    "import numpy as np\n",
    "import pandas as pd\n",
    "from matplotlib import pyplot as plt\n",
    "from sklearn.datasets import load_breast_cancer\n",
    "from sklearn.preprocessing import StandardScaler\n",
    "from sklearn.model_selection import KFold, train_test_split, cross_val_score\n",
    "from sklearn.neighbors import KNeighborsRegressor\n",
    "from sklearn.metrics import PrecisionRecallDisplay, f1_score, mean_absolute_error, mean_squared_error\n",
    "\n",
    "my_ID = 400132290\n",
    "np.random.seed(my_ID)\n",
    "np.set_printoptions(precision=2)# reduced display precision on numpy arrays"
   ]
  },
  {
   "cell_type": "code",
   "execution_count": 3,
   "metadata": {},
   "outputs": [
    {
     "name": "stdout",
     "output_type": "stream",
     "text": [
      "X Shape: (404, 13), X Type:<class 'numpy.ndarray'>)\n",
      "y Shape: (404,), y Type:<class 'numpy.ndarray'>)\n"
     ]
    }
   ],
   "source": [
    "data = pd.read_csv(r\"C:\\Users\\zhang\\Downloads\\BostonHousing.csv\")\n",
    "X = data.iloc[:, :-1]\n",
    "y = data.iloc[:,-1].to_numpy()\n",
    "x_train, x_test, y_train, y_test = train_test_split(X, y, test_size=0.2, random_state=my_ID)\n",
    "sc = StandardScaler()\n",
    "x_train = sc.fit_transform(x_train)\n",
    "x_test = sc.transform(x_test)\n",
    "print(f\"X Shape: {x_train.shape}, X Type:{type(x_train)})\")\n",
    "print(f\"y Shape: {y_train.shape}, y Type:{type(y_train)})\")"
   ]
  },
  {
   "cell_type": "markdown",
   "metadata": {},
   "source": [
    "data = load_breast_cancer()\n",
    "x_data = pd.DataFrame(data.data, columns=data.feature_names)\n",
    "y_data = data.target\n",
    "x_train, x_test, y_train, y_test = train_test_split(x_data, y_data, test_size=0.2, random_state=my_ID)\n",
    "\n",
    "sc = StandardScaler()\n",
    "x_train = sc.fit_transform(x_train)\n",
    "x_test = sc.transform(x_test)\n",
    "\n",
    "print(f\"X Shape: {x_train.shape}, X Type:{type(x_train)})\")\n",
    "#print(x_train)\n",
    "print(f\"y Shape: {y_train.shape}, y Type:{type(y_train)})\")\n",
    "#print(y_train)"
   ]
  },
  {
   "cell_type": "code",
   "execution_count": 5,
   "metadata": {},
   "outputs": [
    {
     "name": "stdout",
     "output_type": "stream",
     "text": [
      "For k=1, the cross-validation error was: 22.37542079207921\n",
      "The sklearn cv error was: 20.726271713767176\n",
      "For k=2, the cross-validation error was: 25.917252475247523\n",
      "The sklearn cv error was: 16.75681639443436\n",
      "For k=3, the cross-validation error was: 37.25212871287128\n",
      "The sklearn cv error was: 17.628196352951342\n",
      "For k=4, the cross-validation error was: 38.06576732673267\n",
      "The sklearn cv error was: 19.559277396076396\n",
      "\n",
      "The best model was at k=2\n",
      "The test error for my implementation is: 26.24931372549019\n",
      "The test error for the sklearn implementation is: 19.325539215686273\n"
     ]
    }
   ],
   "source": [
    "def predict_knn(k, x_train_mat, x_test_mat, y_train_mat):\n",
    "    predictions = []\n",
    "\n",
    "    # For each row in the test set, calculate the distance between it and each row in the training set,\n",
    "    # and pick the K rows with the smallest distances between them and the test row\n",
    "    for x in x_test_mat:\n",
    "        distances = np.linalg.norm(x_train_mat - x, axis=1)\n",
    "        neighbours = np.argsort(distances, kind='stable')[0:k]\n",
    "        classes = list(y_train_mat[neighbours])\n",
    "        predictions.append(max(set(classes), key=classes.count))\n",
    "\n",
    "    return predictions\n",
    "\n",
    "\n",
    "def perform_cross_validation(k, kf, x_train, y_train):\n",
    "    cross_valid_score = 0.0\n",
    "\n",
    "    # Run through all num K_FOLDS cross-validation\n",
    "    for train, test in kf.split(x_train):\n",
    "        x_train_mat, x_test_mat = x_train[train], x_train[test]\n",
    "        y_train_mat, y_test_mat = y_train[train], y_train[test]\n",
    "\n",
    "        predictions = predict_knn(k, x_train_mat, x_test_mat, y_train_mat)\n",
    "\n",
    "        cross_valid_score += mean_squared_error(predictions, y_test_mat)\n",
    "\n",
    "    # Average final cross-validation error\n",
    "    return cross_valid_score / kf.n_splits\n",
    "\n",
    "\n",
    "def main():\n",
    "    K_FOLD = 4\n",
    "    kf = KFold(n_splits= K_FOLD)\n",
    "    \"\"\"k-nearest neighbour classifier\"\"\"\n",
    "    cv_scores = []\n",
    "    for k in range(1, K_FOLD+1):  # number of neighbours\n",
    "        # My implementation\n",
    "        cv_score = perform_cross_validation(k, kf, x_train, y_train)\n",
    "        #cv_scores.append(cv_score)\n",
    "        print(f\"For k={k}, the cross-validation error was: {cv_score}\")\n",
    "\n",
    "        # Scikit learn implementation\n",
    "        knn_clf = KNeighborsRegressor(n_neighbors=k)\n",
    "        skl_cv_score = -cross_val_score(knn_clf, x_train, y_train, cv=7, scoring=\"neg_mean_squared_error\").mean()\n",
    "        cv_scores.append(skl_cv_score)\n",
    "        print(f\"The sklearn cv error was: {skl_cv_score}\")\n",
    "\n",
    "    print()\n",
    "    best_k = np.argmin(cv_scores) + 1\n",
    "    print(f\"The best model was at k={best_k}\")\n",
    "\n",
    "    # My implementation\n",
    "    predictions = predict_knn(best_k, x_train, x_test, y_train)\n",
    "\n",
    "    best_misclass_rate = mean_squared_error(predictions, y_test)\n",
    "    print(f\"The test error for my implementation is: {best_misclass_rate}\")\n",
    "\n",
    "    # Scikit learn implementation\n",
    "    knn_clf = KNeighborsRegressor(n_neighbors=best_k)\n",
    "    knn_clf.fit(x_train, y_train)\n",
    "\n",
    "    predictions = knn_clf.predict(x_test)\n",
    "\n",
    "    best_misclass_rate = mean_squared_error(y_test, predictions)\n",
    "    print(f\"The test error for the sklearn implementation is: {best_misclass_rate}\")\n",
    "\n",
    "\n",
    "if __name__ == '__main__':\n",
    "    main()"
   ]
  }
 ],
 "metadata": {
  "kernelspec": {
   "display_name": "tf",
   "language": "python",
   "name": "python3"
  },
  "language_info": {
   "codemirror_mode": {
    "name": "ipython",
    "version": 3
   },
   "file_extension": ".py",
   "mimetype": "text/x-python",
   "name": "python",
   "nbconvert_exporter": "python",
   "pygments_lexer": "ipython3",
   "version": "3.9.17"
  }
 },
 "nbformat": 4,
 "nbformat_minor": 2
}
