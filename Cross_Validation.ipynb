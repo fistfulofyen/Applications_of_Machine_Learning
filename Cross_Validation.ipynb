{
 "cells": [
  {
   "cell_type": "code",
   "execution_count": 19,
   "metadata": {},
   "outputs": [
    {
     "name": "stderr",
     "output_type": "stream",
     "text": [
      "C:\\Users\\zhang\\AppData\\Local\\Temp\\ipykernel_2896\\1525129090.py:17: MatplotlibDeprecationWarning: The seaborn styles shipped by Matplotlib are deprecated since 3.6, as they no longer correspond to the styles shipped by seaborn. However, they will remain available as 'seaborn-v0_8-<style>'. Alternatively, directly use the seaborn API instead.\n",
      "  plt.style.use('seaborn-white')\n"
     ]
    }
   ],
   "source": [
    "import numpy as np\n",
    "import pandas as pd\n",
    "import matplotlib.pylab as plt\n",
    "from sklearn.datasets import load_breast_cancer\n",
    "from sklearn.preprocessing import StandardScaler\n",
    "from sklearn.linear_model import LogisticRegression\n",
    "from sklearn.metrics import accuracy_score, roc_auc_score\n",
    "from sklearn.model_selection import (\n",
    "    train_test_split,\n",
    "    TimeSeriesSplit,\n",
    "    KFold,\n",
    "    StratifiedKFold,\n",
    "    GroupKFold,\n",
    "    StratifiedGroupKFold,\n",
    ")\n",
    "\n",
    "plt.style.use('seaborn-white')"
   ]
  },
  {
   "cell_type": "markdown",
   "metadata": {},
   "source": [
    "## Data Set ##\n",
    "\n",
    "load_breast_cancer"
   ]
  },
  {
   "cell_type": "code",
   "execution_count": 22,
   "metadata": {},
   "outputs": [],
   "source": [
    "def get_data():\n",
    "    data = load_breast_cancer()\n",
    "    x_data = pd.DataFrame(data.data, columns=data.feature_names)\n",
    "    y_data = data.target\n",
    "    x_train, x_test, y_train, y_test = train_test_split(x_data, y_data, test_size=0.2, random_state=420)\n",
    "\n",
    "    sc = StandardScaler()\n",
    "    x_train = sc.fit_transform(x_train)\n",
    "    x_test = sc.transform(x_test)\n",
    "    \n",
    "    return x_train, x_test, y_train, y_test"
   ]
  },
  {
   "cell_type": "code",
   "execution_count": 25,
   "metadata": {},
   "outputs": [
    {
     "data": {
      "text/plain": [
       "array([[ 0.15253647,  1.3263287 ,  0.21394939, ...,  0.10028727,\n",
       "         0.45872586,  0.95709079],\n",
       "       [-0.62003651,  0.53295746, -0.60416121, ..., -0.40202909,\n",
       "        -0.96831616,  0.80729055],\n",
       "       [ 0.68739468,  0.34208844,  0.6919708 , ...,  0.67566783,\n",
       "         0.3228171 , -0.13677429],\n",
       "       ...,\n",
       "       [-1.15192329, -0.94570256, -1.1675282 , ..., -1.57531834,\n",
       "         0.04776365, -0.40781574],\n",
       "       [-1.09843747, -1.6102947 , -1.08175158, ..., -0.71468297,\n",
       "         0.05423549, -0.39434449],\n",
       "       [ 0.9637381 ,  1.21824624,  1.00662872, ...,  1.1566738 ,\n",
       "         0.66258901,  2.65985614]])"
      ]
     },
     "execution_count": 25,
     "metadata": {},
     "output_type": "execute_result"
    }
   ],
   "source": [
    "X_train, X_test, y_train, y_test = get_data()\n",
    "X_train"
   ]
  },
  {
   "cell_type": "code",
   "execution_count": 27,
   "metadata": {},
   "outputs": [
    {
     "name": "stdout",
     "output_type": "stream",
     "text": [
      "The score on the training set is accuracy: 0.9912 and AUC of 0.9980\n"
     ]
    }
   ],
   "source": [
    "log_reg = LogisticRegression()\n",
    "log_reg.fit(X_train,y_train)\n",
    "pred = log_reg.predict(X_train)\n",
    "pred_prob = log_reg.predict_proba(X_train)[:, 1]\n",
    "\n",
    "acc_score = accuracy_score(y_train, pred)\n",
    "auc_score = roc_auc_score(y_train, pred_prob)\n",
    "print(f'The score on the training set is accuracy: {acc_score:0.4f} and AUC of {auc_score:0.4f}')"
   ]
  },
  {
   "cell_type": "code",
   "execution_count": 28,
   "metadata": {},
   "outputs": [
    {
     "name": "stdout",
     "output_type": "stream",
     "text": [
      "The score on the test set is accuracy: 0.9649 and AUC of 0.9939\n"
     ]
    }
   ],
   "source": [
    "pred = log_reg.predict(X_test)\n",
    "pred_prob = log_reg.predict_proba(X_test)[:, 1]\n",
    "\n",
    "acc_score = accuracy_score(y_test, pred)\n",
    "auc_score = roc_auc_score(y_test, pred_prob)\n",
    "print(f'The score on the test set is accuracy: {acc_score:0.4f} and AUC of {auc_score:0.4f}')"
   ]
  },
  {
   "cell_type": "markdown",
   "metadata": {},
   "source": [
    "### BaseLine ###\n",
    "Predicting all zeros"
   ]
  },
  {
   "cell_type": "code",
   "execution_count": 30,
   "metadata": {},
   "outputs": [
    {
     "name": "stdout",
     "output_type": "stream",
     "text": [
      "Our baseline on the test set is 0.4035 and AUC is 0.5000\n"
     ]
    }
   ],
   "source": [
    "acc_score = accuracy_score(y_test, np.zeros_like(y_test))\n",
    "auc_score = roc_auc_score(y_test, np.zeros_like(y_test))\n",
    "print(\n",
    "    f\"Our baseline on the test set is {acc_score:0.4f} and AUC is {auc_score:0.4f}\"\n",
    ")"
   ]
  },
  {
   "cell_type": "markdown",
   "metadata": {},
   "source": [
    "doing ok\n",
    "\n",
    "## Cross Validation ##"
   ]
  },
  {
   "cell_type": "code",
   "execution_count": null,
   "metadata": {},
   "outputs": [],
   "source": [
    "plot_cv()"
   ]
  }
 ],
 "metadata": {
  "kernelspec": {
   "display_name": "tf",
   "language": "python",
   "name": "python3"
  },
  "language_info": {
   "codemirror_mode": {
    "name": "ipython",
    "version": 3
   },
   "file_extension": ".py",
   "mimetype": "text/x-python",
   "name": "python",
   "nbconvert_exporter": "python",
   "pygments_lexer": "ipython3",
   "version": "3.9.17"
  }
 },
 "nbformat": 4,
 "nbformat_minor": 2
}
