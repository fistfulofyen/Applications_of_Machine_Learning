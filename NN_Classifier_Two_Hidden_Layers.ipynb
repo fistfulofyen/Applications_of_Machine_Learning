{
 "cells": [
  {
   "cell_type": "code",
   "execution_count": 1,
   "metadata": {},
   "outputs": [],
   "source": [
    "import numpy as np\n",
    "import matplotlib.pyplot as plt\n",
    "import scipy\n",
    "import pandas as pd\n",
    "from sklearn.preprocessing import StandardScaler\n",
    "from sklearn.model_selection import train_test_split\n",
    "\n",
    "import tensorflow as tf\n",
    "from tensorflow.keras.models import Sequential\n",
    "from tensorflow.keras.layers import Dense\n",
    "\n",
    "my_ID = 400132290\n",
    "np.random.seed(my_ID)\n",
    "np.set_printoptions(precision=2)# reduced display precision on numpy arrays"
   ]
  },
  {
   "cell_type": "code",
   "execution_count": 17,
   "metadata": {},
   "outputs": [
    {
     "name": "stdout",
     "output_type": "stream",
     "text": [
      "X Shape: (274, 4), X Type:<class 'numpy.ndarray'>)\n",
      "y Shape: (274,), y Type:<class 'numpy.ndarray'>)\n",
      "(4,)\n"
     ]
    }
   ],
   "source": [
    "data = pd.read_csv(\"data_banknote_authentication.txt\")\n",
    "X = data.iloc[:, :-1]\n",
    "y = data.iloc[:,-1].to_numpy()\n",
    "x_train, x_test, y_train, y_test = train_test_split(X, y, test_size=0.2, random_state=my_ID)\n",
    "x_train, x_valid, y_train, y_valid = train_test_split(x_train, y_train, test_size=0.25, random_state=my_ID)\n",
    "sc = StandardScaler()\n",
    "x_train = sc.fit_transform(x_train)\n",
    "x_test = sc.transform(x_test)\n",
    "x_valid = sc.transform(x_valid)\n",
    "print(f\"X Shape: {x_valid.shape}, X Type:{type(x_valid)})\")\n",
    "print(f\"y Shape: {y_valid.shape}, y Type:{type(y_valid)})\")\n",
    "print(x_valid[0].shape)"
   ]
  },
  {
   "cell_type": "code",
   "execution_count": 3,
   "metadata": {},
   "outputs": [
    {
     "name": "stdout",
     "output_type": "stream",
     "text": [
      "Model: \"my_model\"\n",
      "_________________________________________________________________\n",
      " Layer (type)                Output Shape              Param #   \n",
      "=================================================================\n",
      " layer1 (Dense)              (None, 25)                125       \n",
      "                                                                 \n",
      " layer2 (Dense)              (None, 15)                390       \n",
      "                                                                 \n",
      " layer3 (Dense)              (None, 1)                 16        \n",
      "                                                                 \n",
      "=================================================================\n",
      "Total params: 531\n",
      "Trainable params: 531\n",
      "Non-trainable params: 0\n",
      "_________________________________________________________________\n"
     ]
    }
   ],
   "source": [
    "model = Sequential(\n",
    "    [               \n",
    "        tf.keras.Input(shape=(4,)),    #specify input size\n",
    "        ### START CODE HERE ### \n",
    "        Dense(25,activation='sigmoid', name='layer1'),\n",
    "        Dense(15,activation='sigmoid', name='layer2'),\n",
    "        Dense(1,activation='sigmoid', name='layer3')\n",
    "        \n",
    "        ### END CODE HERE ### \n",
    "    ], name = \"my_model\" \n",
    ")\n",
    "model.summary()"
   ]
  },
  {
   "cell_type": "code",
   "execution_count": 4,
   "metadata": {},
   "outputs": [
    {
     "name": "stdout",
     "output_type": "stream",
     "text": [
      "W1 shape = (4, 25), b1 shape = (25,)\n",
      "W2 shape = (25, 15), b2 shape = (15,)\n",
      "W3 shape = (15, 1), b3 shape = (1,)\n"
     ]
    }
   ],
   "source": [
    "[layer1, layer2, layer3] = model.layers\n",
    "#### Examine Weights shapes\n",
    "W1,b1 = layer1.get_weights()\n",
    "W2,b2 = layer2.get_weights()\n",
    "W3,b3 = layer3.get_weights()\n",
    "print(f\"W1 shape = {W1.shape}, b1 shape = {b1.shape}\")\n",
    "print(f\"W2 shape = {W2.shape}, b2 shape = {b2.shape}\")\n",
    "print(f\"W3 shape = {W3.shape}, b3 shape = {b3.shape}\")"
   ]
  },
  {
   "cell_type": "code",
   "execution_count": 5,
   "metadata": {},
   "outputs": [
    {
     "name": "stdout",
     "output_type": "stream",
     "text": [
      "[<tf.Variable 'layer3/kernel:0' shape=(15, 1) dtype=float32, numpy=\n",
      "array([[ 0.06],\n",
      "       [ 0.1 ],\n",
      "       [-0.61],\n",
      "       [-0.6 ],\n",
      "       [ 0.51],\n",
      "       [ 0.51],\n",
      "       [ 0.61],\n",
      "       [ 0.04],\n",
      "       [-0.28],\n",
      "       [ 0.15],\n",
      "       [ 0.13],\n",
      "       [ 0.1 ],\n",
      "       [-0.48],\n",
      "       [ 0.03],\n",
      "       [-0.51]], dtype=float32)>, <tf.Variable 'layer3/bias:0' shape=(1,) dtype=float32, numpy=array([0.], dtype=float32)>]\n"
     ]
    }
   ],
   "source": [
    "print(model.layers[2].weights)"
   ]
  },
  {
   "cell_type": "code",
   "execution_count": 6,
   "metadata": {},
   "outputs": [
    {
     "name": "stdout",
     "output_type": "stream",
     "text": [
      "Epoch 1/20\n",
      "26/26 [==============================] - 1s 1ms/step - loss: 0.6813\n",
      "Epoch 2/20\n",
      "26/26 [==============================] - 0s 1ms/step - loss: 0.6681\n",
      "Epoch 3/20\n",
      "26/26 [==============================] - 0s 1ms/step - loss: 0.6546\n",
      "Epoch 4/20\n",
      "26/26 [==============================] - 0s 1ms/step - loss: 0.6394\n",
      "Epoch 5/20\n",
      "26/26 [==============================] - 0s 1ms/step - loss: 0.6216\n",
      "Epoch 6/20\n",
      "26/26 [==============================] - 0s 1ms/step - loss: 0.6017\n",
      "Epoch 7/20\n",
      "26/26 [==============================] - 0s 1ms/step - loss: 0.5775\n",
      "Epoch 8/20\n",
      "26/26 [==============================] - 0s 1ms/step - loss: 0.5505\n",
      "Epoch 9/20\n",
      "26/26 [==============================] - 0s 1ms/step - loss: 0.5199\n",
      "Epoch 10/20\n",
      "26/26 [==============================] - 0s 1ms/step - loss: 0.4874\n",
      "Epoch 11/20\n",
      "26/26 [==============================] - 0s 1ms/step - loss: 0.4531\n",
      "Epoch 12/20\n",
      "26/26 [==============================] - 0s 1ms/step - loss: 0.4182\n",
      "Epoch 13/20\n",
      "26/26 [==============================] - 0s 1ms/step - loss: 0.3837\n",
      "Epoch 14/20\n",
      "26/26 [==============================] - 0s 1ms/step - loss: 0.3499\n",
      "Epoch 15/20\n",
      "26/26 [==============================] - 0s 1ms/step - loss: 0.3175\n",
      "Epoch 16/20\n",
      "26/26 [==============================] - 0s 1ms/step - loss: 0.2867\n",
      "Epoch 17/20\n",
      "26/26 [==============================] - 0s 1ms/step - loss: 0.2592\n",
      "Epoch 18/20\n",
      "26/26 [==============================] - 0s 1ms/step - loss: 0.2340\n",
      "Epoch 19/20\n",
      "26/26 [==============================] - 0s 1ms/step - loss: 0.2112\n",
      "Epoch 20/20\n",
      "26/26 [==============================] - 0s 1ms/step - loss: 0.1912\n"
     ]
    },
    {
     "data": {
      "text/plain": [
       "<keras.callbacks.History at 0x1e9eb302190>"
      ]
     },
     "execution_count": 6,
     "metadata": {},
     "output_type": "execute_result"
    }
   ],
   "source": [
    "model.compile(\n",
    "    loss=tf.keras.losses.BinaryCrossentropy(),\n",
    "    optimizer=tf.keras.optimizers.Adam(0.001),\n",
    ")\n",
    "\n",
    "model.fit(\n",
    "    x_train,y_train,\n",
    "    epochs=20\n",
    ")"
   ]
  },
  {
   "cell_type": "code",
   "execution_count": 9,
   "metadata": {},
   "outputs": [
    {
     "name": "stdout",
     "output_type": "stream",
     "text": [
      "1/1 [==============================] - 0s 12ms/step\n"
     ]
    },
    {
     "name": "stdout",
     "output_type": "stream",
     "text": [
      " predicting: [[0.08]]\n",
      " true value: 0\n",
      "1/1 [==============================] - 0s 10ms/step\n",
      " predicting:  [[0.12]]\n",
      " true value: 0\n"
     ]
    }
   ],
   "source": [
    "prediction = model.predict(x_valid[0].reshape(1,4))  # a zero\n",
    "print(f\" predicting: {prediction}\")\n",
    "print(f\" true value: {y_valid[0]}\")\n",
    "prediction = model.predict(x_valid[50].reshape(1,4))  # a one\n",
    "print(f\" predicting:  {prediction}\")\n",
    "print(f\" true value: {y_valid[50]}\")"
   ]
  }
 ],
 "metadata": {
  "kernelspec": {
   "display_name": "tf",
   "language": "python",
   "name": "python3"
  },
  "language_info": {
   "codemirror_mode": {
    "name": "ipython",
    "version": 3
   },
   "file_extension": ".py",
   "mimetype": "text/x-python",
   "name": "python",
   "nbconvert_exporter": "python",
   "pygments_lexer": "ipython3",
   "version": "3.9.17"
  }
 },
 "nbformat": 4,
 "nbformat_minor": 2
}
